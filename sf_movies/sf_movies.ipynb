{
 "metadata": {
  "name": "",
  "signature": "sha256:da0c30082d5f735d27478b7fe2ab15ec1a7548474f863b3b588d5d1ededfbd23"
 },
 "nbformat": 3,
 "nbformat_minor": 0,
 "worksheets": [
  {
   "cells": [
    {
     "cell_type": "heading",
     "level": 1,
     "metadata": {},
     "source": [
      "Movies shot in SF Data - Insights\n"
     ]
    },
    {
     "cell_type": "markdown",
     "metadata": {},
     "source": [
      "Is [San Francisco](https://data.sfgov.org/Culture-and-Recreation/Film-Locations-in-San-Francisco/yitu-d5am) the preferred destination to shoot Hollywood movies? Let's find out. I downloaded the CSV files from data.sfgov.org and uploaded them to a Postgres Database. You can find the raw SQL generated from pg_dump on github. \n"
     ]
    },
    {
     "cell_type": "code",
     "collapsed": false,
     "input": [
      "import pandas\n",
      "import vincent\n",
      "import sqlalchemy\n",
      "import IPython.display\n",
      "\n",
      "from vincent import AxisProperties, PropertySet, ValueRef\n",
      "\n",
      "vincent.core.initialize_notebook()\n",
      "engine = sqlalchemy.create_engine('postgresql://sri@localhost:5432/sffilms')"
     ],
     "language": "python",
     "metadata": {},
     "outputs": [
      {
       "html": [
        "\n",
        "           <script>\n",
        "               \n",
        "                function vct_load_lib(url, callback){\n",
        "                      if(typeof d3 !== 'undefined' &&\n",
        "                         url === 'http://d3js.org/d3.v3.min.js'){\n",
        "                        callback()\n",
        "                      }\n",
        "                      var s = document.createElement('script');\n",
        "                      s.src = url;\n",
        "                      s.async = true;\n",
        "                      s.onreadystatechange = s.onload = callback;\n",
        "                      s.onerror = function(){\n",
        "                        console.warn(\"failed to load library \" + url);\n",
        "                        };\n",
        "                      document.getElementsByTagName(\"head\")[0].appendChild(s);\n",
        "                };\n",
        "                var vincent_event = new CustomEvent(\n",
        "                  \"vincent_libs_loaded\",\n",
        "                  {bubbles: true, cancelable: true}\n",
        "                );\n",
        "                \n",
        "               function load_all_libs(){\n",
        "                  console.log('Loading Vincent libs...')\n",
        "                  vct_load_lib('http://d3js.org/d3.v3.min.js', function(){\n",
        "                  vct_load_lib('http://d3js.org/d3.geo.projection.v0.min.js', function(){\n",
        "                  vct_load_lib('http://wrobstory.github.io/d3-cloud/d3.layout.cloud.js', function(){\n",
        "                  vct_load_lib('http://wrobstory.github.io/vega/vega.v1.3.3.js', function(){\n",
        "                  window.dispatchEvent(vincent_event);\n",
        "                  });\n",
        "                  });\n",
        "                  });\n",
        "                  });\n",
        "               };\n",
        "               if(typeof define === \"function\" && define.amd){\n",
        "                    if (window['d3'] === undefined ||\n",
        "                        window['topojson'] === undefined){\n",
        "                        require.config(\n",
        "                            {paths: {\n",
        "                              d3: 'http://d3js.org/d3.v3.min',\n",
        "                              topojson: 'http://d3js.org/topojson.v1.min'\n",
        "                              }\n",
        "                            }\n",
        "                          );\n",
        "                        require([\"d3\"], function(d3){\n",
        "                            console.log('Loading Vincent from require.js...')\n",
        "                            window.d3 = d3;\n",
        "                            require([\"topojson\"], function(topojson){\n",
        "                                window.topojson = topojson;\n",
        "                                load_all_libs();\n",
        "                            });\n",
        "                        });\n",
        "                    } else {\n",
        "                        load_all_libs();\n",
        "                    };\n",
        "               }else{\n",
        "                    console.log('Require.js not found, loading manually...')\n",
        "                    load_all_libs();\n",
        "               };\n",
        "\n",
        "           </script>"
       ],
       "metadata": {},
       "output_type": "display_data",
       "text": [
        "<IPython.core.display.HTML at 0x7f557590d650>"
       ]
      }
     ],
     "prompt_number": 42
    },
    {
     "cell_type": "heading",
     "level": 2,
     "metadata": {},
     "source": [
      "Number of Movies shot in SF"
     ]
    },
    {
     "cell_type": "markdown",
     "metadata": {},
     "source": [
      "As per the available data the first movie to be shot in San Francisco was in the year 1915 'A Jitney Elopement directed by Charlie Chaplin starring himself. Let us see what are the maximum number of movies shot in San Francisco per year from 1915 - 2015 by release year."
     ]
    },
    {
     "cell_type": "code",
     "collapsed": false,
     "input": [
      "\n",
      "movies_by_releaseyear = pandas.io.sql.read_sql(\n",
      "'''\n",
      "SELECT release_year, COUNT(DISTINCT title) AS movies_sf\n",
      "FROM sffilms\n",
      "GROUP BY release_year\n",
      "ORDER BY movies_sf DESC\n",
      "limit 10\n",
      "''',\n",
      "con=engine)"
     ],
     "language": "python",
     "metadata": {},
     "outputs": [],
     "prompt_number": 43
    },
    {
     "cell_type": "code",
     "collapsed": false,
     "input": [
      "\n",
      "movies_by_releaseyear.set_index('release_year', inplace=True)\n",
      "bar = vincent.Bar(movies_by_releaseyear['movies_sf'], width=720, height=360)\n",
      "#rotate x axis labels\n",
      "ax = AxisProperties(\n",
      "         labels = PropertySet(angle=ValueRef(value=90), align=ValueRef(value=\"left\")))\n",
      "bar.axes[0].properties = ax\n",
      "bar.display()\n",
      "\n",
      "\n"
     ],
     "language": "python",
     "metadata": {},
     "outputs": [
      {
       "html": [
        "<div id=\"viscfc6c118a595452e81eaeb773e69c65a\"></div>\n",
        "<script>\n",
        "   ( function() {\n",
        "     var _do_plot = function() {\n",
        "       if (typeof vg === 'undefined') {\n",
        "         window.addEventListener('vincent_libs_loaded', _do_plot)\n",
        "         return;\n",
        "       }\n",
        "       vg.parse.spec({\"axes\": [{\"properties\": {\"labels\": {\"align\": {\"value\": \"left\"}, \"angle\": {\"value\": 90}}}, \"scale\": \"x\", \"type\": \"x\"}, {\"scale\": \"y\", \"type\": \"y\"}], \"data\": [{\"name\": \"table\", \"values\": [{\"col\": \"movies_sf\", \"idx\": 2003, \"val\": 10}, {\"col\": \"movies_sf\", \"idx\": 1996, \"val\": 10}, {\"col\": \"movies_sf\", \"idx\": 1998, \"val\": 10}, {\"col\": \"movies_sf\", \"idx\": 2001, \"val\": 9}, {\"col\": \"movies_sf\", \"idx\": 2014, \"val\": 9}, {\"col\": \"movies_sf\", \"idx\": 2000, \"val\": 9}, {\"col\": \"movies_sf\", \"idx\": 1991, \"val\": 8}, {\"col\": \"movies_sf\", \"idx\": 2005, \"val\": 8}, {\"col\": \"movies_sf\", \"idx\": 1994, \"val\": 8}, {\"col\": \"movies_sf\", \"idx\": 2004, \"val\": 7}]}, {\"name\": \"stats\", \"source\": \"table\", \"transform\": [{\"keys\": [\"data.idx\"], \"type\": \"facet\"}, {\"type\": \"stats\", \"value\": \"data.val\"}]}], \"height\": 360, \"legends\": [], \"marks\": [{\"from\": {\"data\": \"table\", \"transform\": [{\"keys\": [\"data.col\"], \"type\": \"facet\"}, {\"height\": \"data.val\", \"point\": \"data.idx\", \"type\": \"stack\"}]}, \"marks\": [{\"properties\": {\"enter\": {\"fill\": {\"field\": \"data.col\", \"scale\": \"color\"}, \"width\": {\"band\": true, \"offset\": -1, \"scale\": \"x\"}, \"x\": {\"field\": \"data.idx\", \"scale\": \"x\"}, \"y\": {\"field\": \"y\", \"scale\": \"y\"}, \"y2\": {\"field\": \"y2\", \"scale\": \"y\"}}}, \"type\": \"rect\"}], \"type\": \"group\"}], \"padding\": \"auto\", \"scales\": [{\"domain\": {\"data\": \"table\", \"field\": \"data.idx\"}, \"name\": \"x\", \"range\": \"width\", \"type\": \"ordinal\", \"zero\": false}, {\"domain\": {\"data\": \"stats\", \"field\": \"sum\"}, \"name\": \"y\", \"nice\": true, \"range\": \"height\"}, {\"domain\": {\"data\": \"table\", \"field\": \"data.col\"}, \"name\": \"color\", \"range\": \"category20\", \"type\": \"ordinal\"}], \"width\": 720}, function(chart) {\n",
        "         chart({el: \"#viscfc6c118a595452e81eaeb773e69c65a\"}).update();\n",
        "       });\n",
        "     };\n",
        "     _do_plot();\n",
        "   })();\n",
        "</script>\n",
        "<style>.vega canvas {width: 100%;}</style>\n",
        "        "
       ],
       "metadata": {},
       "output_type": "display_data",
       "text": [
        "<IPython.core.display.HTML at 0x7f5575797590>"
       ]
      }
     ],
     "prompt_number": 44
    },
    {
     "cell_type": "heading",
     "level": 2,
     "metadata": {},
     "source": [
      "Directors who shoot in San Francisco"
     ]
    },
    {
     "cell_type": "markdown",
     "metadata": {},
     "source": [
      "Let's find out which of the Hollywood directors loved San Francisco and how many movies they shot in San Francisco"
     ]
    },
    {
     "cell_type": "code",
     "collapsed": false,
     "input": [
      "directors_sf = pandas.io.sql.read_sql(\n",
      "'''\n",
      "SELECT Director, COUNT(Director) AS cnt_movies\n",
      "FROM sffilms\n",
      "GROUP BY Director\n",
      "ORDER BY cnt_movies DESC\n",
      "limit 10\n",
      "''',\n",
      "con=engine)"
     ],
     "language": "python",
     "metadata": {},
     "outputs": [],
     "prompt_number": 45
    },
    {
     "cell_type": "code",
     "collapsed": false,
     "input": [
      "directors_sf.set_index('director', inplace=True)\n",
      "bar = vincent.Bar(directors_sf['cnt_movies'], width=720, height=360)\n",
      "#rotate x axis labels\n",
      "ax = AxisProperties(\n",
      "         labels = PropertySet(angle=ValueRef(value=90), align=ValueRef(value=\"left\")))\n",
      "bar.axes[0].properties = ax\n",
      "bar.display()"
     ],
     "language": "python",
     "metadata": {},
     "outputs": [
      {
       "html": [
        "<div id=\"vis6855078d86664dbdbe2a30a0c10b9963\"></div>\n",
        "<script>\n",
        "   ( function() {\n",
        "     var _do_plot = function() {\n",
        "       if (typeof vg === 'undefined') {\n",
        "         window.addEventListener('vincent_libs_loaded', _do_plot)\n",
        "         return;\n",
        "       }\n",
        "       vg.parse.spec({\"axes\": [{\"properties\": {\"labels\": {\"align\": {\"value\": \"left\"}, \"angle\": {\"value\": 90}}}, \"scale\": \"x\", \"type\": \"x\"}, {\"scale\": \"y\", \"type\": \"y\"}], \"data\": [{\"name\": \"table\", \"values\": [{\"col\": \"cnt_movies\", \"idx\": \"Garry Marshall\", \"val\": 4}, {\"col\": \"cnt_movies\", \"idx\": \"Alfred Hitchcock\", \"val\": 4}, {\"col\": \"cnt_movies\", \"idx\": \"Philip Kaufman\", \"val\": 4}, {\"col\": \"cnt_movies\", \"idx\": \"Chris Columbus\", \"val\": 4}, {\"col\": \"cnt_movies\", \"idx\": \"Nicholas Meyer\", \"val\": 3}, {\"col\": \"cnt_movies\", \"idx\": \"Francis Ford Coppola\", \"val\": 3}, {\"col\": \"cnt_movies\", \"idx\": \"Wayne Wang\", \"val\": 3}, {\"col\": \"cnt_movies\", \"idx\": \"Robert Stevenson\", \"val\": 3}, {\"col\": \"cnt_movies\", \"idx\": \"W.S. Van Dyke\", \"val\": 3}, {\"col\": \"cnt_movies\", \"idx\": \"Delmer Daves\", \"val\": 2}]}, {\"name\": \"stats\", \"source\": \"table\", \"transform\": [{\"keys\": [\"data.idx\"], \"type\": \"facet\"}, {\"type\": \"stats\", \"value\": \"data.val\"}]}], \"height\": 360, \"legends\": [], \"marks\": [{\"from\": {\"data\": \"table\", \"transform\": [{\"keys\": [\"data.col\"], \"type\": \"facet\"}, {\"height\": \"data.val\", \"point\": \"data.idx\", \"type\": \"stack\"}]}, \"marks\": [{\"properties\": {\"enter\": {\"fill\": {\"field\": \"data.col\", \"scale\": \"color\"}, \"width\": {\"band\": true, \"offset\": -1, \"scale\": \"x\"}, \"x\": {\"field\": \"data.idx\", \"scale\": \"x\"}, \"y\": {\"field\": \"y\", \"scale\": \"y\"}, \"y2\": {\"field\": \"y2\", \"scale\": \"y\"}}}, \"type\": \"rect\"}], \"type\": \"group\"}], \"padding\": \"auto\", \"scales\": [{\"domain\": {\"data\": \"table\", \"field\": \"data.idx\"}, \"name\": \"x\", \"range\": \"width\", \"type\": \"ordinal\", \"zero\": false}, {\"domain\": {\"data\": \"stats\", \"field\": \"sum\"}, \"name\": \"y\", \"nice\": true, \"range\": \"height\"}, {\"domain\": {\"data\": \"table\", \"field\": \"data.col\"}, \"name\": \"color\", \"range\": \"category20\", \"type\": \"ordinal\"}], \"width\": 720}, function(chart) {\n",
        "         chart({el: \"#vis6855078d86664dbdbe2a30a0c10b9963\"}).update();\n",
        "       });\n",
        "     };\n",
        "     _do_plot();\n",
        "   })();\n",
        "</script>\n",
        "<style>.vega canvas {width: 100%;}</style>\n",
        "        "
       ],
       "metadata": {},
       "output_type": "display_data",
       "text": [
        "<IPython.core.display.HTML at 0x7f557627db10>"
       ]
      }
     ],
     "prompt_number": 46
    },
    {
     "cell_type": "heading",
     "level": 2,
     "metadata": {},
     "source": [
      "Film Genres shot in SF"
     ]
    },
    {
     "cell_type": "markdown",
     "metadata": {},
     "source": [
      "What is the general mood of San Francisco? let's find out by looking at the type of movies shot in the city. "
     ]
    },
    {
     "cell_type": "code",
     "collapsed": false,
     "input": [
      "film_genre = pandas.io.sql.read_sql(\n",
      "'''\n",
      "SELECT genre, COUNT(genre) as cnt_genre\n",
      "FROM sffilms\n",
      "GROUP BY genre\n",
      "ORDER BY COUNT(genre) DESC\n",
      "limit 5\n",
      "''',\n",
      "con=engine)"
     ],
     "language": "python",
     "metadata": {},
     "outputs": [],
     "prompt_number": 56
    },
    {
     "cell_type": "code",
     "collapsed": false,
     "input": [
      "film_genre.set_index('genre', inplace=True)\n",
      "pie = vincent.Pie(film_genre)\n",
      "pie.legend('Genres')\n",
      "pie"
     ],
     "language": "python",
     "metadata": {},
     "outputs": [
      {
       "html": [
        "<div id=\"vis86c1e388d6404ffcad5f2b95a7c1b956\"></div>\n",
        "<script>\n",
        "   ( function() {\n",
        "     var _do_plot = function() {\n",
        "       if (typeof vg === 'undefined') {\n",
        "         window.addEventListener('vincent_libs_loaded', _do_plot)\n",
        "         return;\n",
        "       }\n",
        "       vg.parse.spec({\"axes\": [], \"data\": [{\"name\": \"table\", \"values\": [{\"col\": \"cnt_genre\", \"idx\": \"Comedy\", \"val\": 82}, {\"col\": \"cnt_genre\", \"idx\": \"Drama\", \"val\": 62}, {\"col\": \"cnt_genre\", \"idx\": \"Action\", \"val\": 35}, {\"col\": \"cnt_genre\", \"idx\": \"Crime\", \"val\": 21}, {\"col\": \"cnt_genre\", \"idx\": \"Biography\", \"val\": 12}]}], \"height\": 500, \"legends\": [{\"fill\": \"color\", \"offset\": 0, \"properties\": {}, \"title\": \"Genres\"}], \"marks\": [{\"from\": {\"data\": \"table\", \"transform\": [{\"type\": \"pie\", \"value\": \"data.val\"}]}, \"properties\": {\"enter\": {\"endAngle\": {\"field\": \"endAngle\"}, \"fill\": {\"field\": \"data.idx\", \"scale\": \"color\"}, \"innerRadius\": {\"value\": 0}, \"outerRadius\": {\"value\": 250}, \"startAngle\": {\"field\": \"startAngle\"}, \"stroke\": {\"value\": \"white\"}, \"x\": {\"group\": \"width\", \"mult\": 0.5}, \"y\": {\"group\": \"height\", \"mult\": 0.5}}}, \"type\": \"arc\"}], \"padding\": \"auto\", \"scales\": [{\"domain\": {\"data\": \"table\", \"field\": \"data.idx\"}, \"name\": \"color\", \"range\": \"category10\", \"type\": \"ordinal\"}], \"width\": 960}, function(chart) {\n",
        "         chart({el: \"#vis86c1e388d6404ffcad5f2b95a7c1b956\"}).update();\n",
        "       });\n",
        "     };\n",
        "     _do_plot();\n",
        "   })();\n",
        "</script>\n",
        "<style>.vega canvas {width: 100%;}</style>\n",
        "        "
       ],
       "metadata": {},
       "output_type": "pyout",
       "prompt_number": 57,
       "text": [
        "<vincent.charts.Pie at 0x7f557625f610>"
       ]
      }
     ],
     "prompt_number": 57
    }
   ],
   "metadata": {}
  }
 ]
}