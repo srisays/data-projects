{
 "metadata": {
  "name": "",
  "signature": "sha256:e0c7e52d0275478624816102742e029ee57eba838567166126e8e24cb9a9ed04"
 },
 "nbformat": 3,
 "nbformat_minor": 0,
 "worksheets": [
  {
   "cells": [
    {
     "cell_type": "heading",
     "level": 1,
     "metadata": {
      "slideshow": {
       "slide_type": "slide"
      }
     },
     "source": [
      "SF Restaurant Inspection Data Visualization"
     ]
    },
    {
     "cell_type": "markdown",
     "metadata": {},
     "source": [
      "Let us find out what new insights SF restaurant's health inspection data can offer us. "
     ]
    },
    {
     "cell_type": "markdown",
     "metadata": {},
     "source": [
      "First we can get the python imports and initializations out of the way."
     ]
    },
    {
     "cell_type": "code",
     "collapsed": false,
     "input": [
      "import pandas\n",
      "import vincent\n",
      "import sqlalchemy\n",
      "import IPython.display\n",
      "\n",
      "from vincent import AxisProperties, PropertySet, ValueRef\n",
      "\n",
      "vincent.core.initialize_notebook()\n",
      "engine = sqlalchemy.create_engine('postgresql://sri@localhost:5432/restaurant_scores')"
     ],
     "language": "python",
     "metadata": {
      "slideshow": {
       "slide_type": "slide"
      }
     },
     "outputs": [
      {
       "html": [
        "\n",
        "           <script>\n",
        "               \n",
        "                function vct_load_lib(url, callback){\n",
        "                      if(typeof d3 !== 'undefined' &&\n",
        "                         url === 'http://d3js.org/d3.v3.min.js'){\n",
        "                        callback()\n",
        "                      }\n",
        "                      var s = document.createElement('script');\n",
        "                      s.src = url;\n",
        "                      s.async = true;\n",
        "                      s.onreadystatechange = s.onload = callback;\n",
        "                      s.onerror = function(){\n",
        "                        console.warn(\"failed to load library \" + url);\n",
        "                        };\n",
        "                      document.getElementsByTagName(\"head\")[0].appendChild(s);\n",
        "                };\n",
        "                var vincent_event = new CustomEvent(\n",
        "                  \"vincent_libs_loaded\",\n",
        "                  {bubbles: true, cancelable: true}\n",
        "                );\n",
        "                \n",
        "               function load_all_libs(){\n",
        "                  console.log('Loading Vincent libs...')\n",
        "                  vct_load_lib('http://d3js.org/d3.v3.min.js', function(){\n",
        "                  vct_load_lib('http://d3js.org/d3.geo.projection.v0.min.js', function(){\n",
        "                  vct_load_lib('http://wrobstory.github.io/d3-cloud/d3.layout.cloud.js', function(){\n",
        "                  vct_load_lib('http://wrobstory.github.io/vega/vega.v1.3.3.js', function(){\n",
        "                  window.dispatchEvent(vincent_event);\n",
        "                  });\n",
        "                  });\n",
        "                  });\n",
        "                  });\n",
        "               };\n",
        "               if(typeof define === \"function\" && define.amd){\n",
        "                    if (window['d3'] === undefined ||\n",
        "                        window['topojson'] === undefined){\n",
        "                        require.config(\n",
        "                            {paths: {\n",
        "                              d3: 'http://d3js.org/d3.v3.min',\n",
        "                              topojson: 'http://d3js.org/topojson.v1.min'\n",
        "                              }\n",
        "                            }\n",
        "                          );\n",
        "                        require([\"d3\"], function(d3){\n",
        "                            console.log('Loading Vincent from require.js...')\n",
        "                            window.d3 = d3;\n",
        "                            require([\"topojson\"], function(topojson){\n",
        "                                window.topojson = topojson;\n",
        "                                load_all_libs();\n",
        "                            });\n",
        "                        });\n",
        "                    } else {\n",
        "                        load_all_libs();\n",
        "                    };\n",
        "               }else{\n",
        "                    console.log('Require.js not found, loading manually...')\n",
        "                    load_all_libs();\n",
        "               };\n",
        "\n",
        "           </script>"
       ],
       "metadata": {},
       "output_type": "display_data",
       "text": [
        "<IPython.core.display.HTML at 0x7fb4a8ea6950>"
       ]
      }
     ],
     "prompt_number": 101
    },
    {
     "cell_type": "heading",
     "level": 3,
     "metadata": {
      "slideshow": {
       "slide_type": "subslide"
      }
     },
     "source": [
      "Zip Codes by # of Restaurants"
     ]
    },
    {
     "cell_type": "markdown",
     "metadata": {},
     "source": [
      "Before we delve in to your neighborhood restaurant's health scores let us analyze the # of restaurants by ZIP code to get an idea of where most of the restaurants are located in the city. "
     ]
    },
    {
     "cell_type": "code",
     "collapsed": false,
     "input": [
      "restaurants_by_zipcode = pandas.io.sql.read_sql(\n",
      "'''\n",
      "SELECT businesses.postal_code AS zip_code, COUNT (DISTINCT businesses.name) AS num_restaurants\n",
      "FROM businesses\n",
      "WHERE businesses.postal_code IS NOT NULL\n",
      "GROUP BY businesses.postal_code\n",
      "ORDER BY num_restaurants DESC\n",
      "LIMIT 25\n",
      "''',\n",
      "con=engine)\n"
     ],
     "language": "python",
     "metadata": {},
     "outputs": [],
     "prompt_number": 85
    },
    {
     "cell_type": "code",
     "collapsed": false,
     "input": [
      "restaurants_by_zipcode.set_index('zip_code', inplace=True)\n",
      "bar = vincent.Bar(restaurants_by_zipcode['num_restaurants'], width=720, height=360)\n",
      "#rotate x axis labels\n",
      "ax = AxisProperties(\n",
      "         labels = PropertySet(angle=ValueRef(value=90), align=ValueRef(value=\"left\")))\n",
      "bar.axes[0].properties = ax\n",
      "bar.display()"
     ],
     "language": "python",
     "metadata": {},
     "outputs": [
      {
       "html": [
        "<div id=\"vis17f298a338d6445a8bdd90f3fb102c5f\"></div>\n",
        "<script>\n",
        "   ( function() {\n",
        "     var _do_plot = function() {\n",
        "       if (typeof vg === 'undefined') {\n",
        "         window.addEventListener('vincent_libs_loaded', _do_plot)\n",
        "         return;\n",
        "       }\n",
        "       vg.parse.spec({\"axes\": [{\"properties\": {\"labels\": {\"align\": {\"value\": \"left\"}, \"angle\": {\"value\": 90}}}, \"scale\": \"x\", \"type\": \"x\"}, {\"scale\": \"y\", \"type\": \"y\"}], \"data\": [{\"name\": \"table\", \"values\": [{\"col\": \"num_restaurants\", \"idx\": \"94110\", \"val\": 558}, {\"col\": \"num_restaurants\", \"idx\": \"94103\", \"val\": 505}, {\"col\": \"num_restaurants\", \"idx\": \"94133\", \"val\": 434}, {\"col\": \"num_restaurants\", \"idx\": \"94102\", \"val\": 408}, {\"col\": \"num_restaurants\", \"idx\": \"94107\", \"val\": 395}, {\"col\": \"num_restaurants\", \"idx\": \"94109\", \"val\": 378}, {\"col\": \"num_restaurants\", \"idx\": \"94122\", \"val\": 246}, {\"col\": \"num_restaurants\", \"idx\": \"94111\", \"val\": 246}, {\"col\": \"num_restaurants\", \"idx\": \"94118\", \"val\": 241}, {\"col\": \"num_restaurants\", \"idx\": \"94124\", \"val\": 231}, {\"col\": \"num_restaurants\", \"idx\": \"94115\", \"val\": 231}, {\"col\": \"num_restaurants\", \"idx\": \"94108\", \"val\": 224}, {\"col\": \"num_restaurants\", \"idx\": \"94112\", \"val\": 201}, {\"col\": \"num_restaurants\", \"idx\": \"94114\", \"val\": 200}, {\"col\": \"num_restaurants\", \"idx\": \"94117\", \"val\": 197}, {\"col\": \"num_restaurants\", \"idx\": \"94105\", \"val\": 188}, {\"col\": \"num_restaurants\", \"idx\": \"94123\", \"val\": 177}, {\"col\": \"num_restaurants\", \"idx\": \"94121\", \"val\": 166}, {\"col\": \"num_restaurants\", \"idx\": \"94132\", \"val\": 121}, {\"col\": \"num_restaurants\", \"idx\": \"94104\", \"val\": 116}, {\"col\": \"num_restaurants\", \"idx\": \"94116\", \"val\": 94}, {\"col\": \"num_restaurants\", \"idx\": \"94134\", \"val\": 75}, {\"col\": \"num_restaurants\", \"idx\": \"94127\", \"val\": 64}, {\"col\": \"num_restaurants\", \"idx\": \"94131\", \"val\": 46}, {\"col\": \"num_restaurants\", \"idx\": \"94158\", \"val\": 10}]}, {\"name\": \"stats\", \"source\": \"table\", \"transform\": [{\"keys\": [\"data.idx\"], \"type\": \"facet\"}, {\"type\": \"stats\", \"value\": \"data.val\"}]}], \"height\": 360, \"legends\": [], \"marks\": [{\"from\": {\"data\": \"table\", \"transform\": [{\"keys\": [\"data.col\"], \"type\": \"facet\"}, {\"height\": \"data.val\", \"point\": \"data.idx\", \"type\": \"stack\"}]}, \"marks\": [{\"properties\": {\"enter\": {\"fill\": {\"field\": \"data.col\", \"scale\": \"color\"}, \"width\": {\"band\": true, \"offset\": -1, \"scale\": \"x\"}, \"x\": {\"field\": \"data.idx\", \"scale\": \"x\"}, \"y\": {\"field\": \"y\", \"scale\": \"y\"}, \"y2\": {\"field\": \"y2\", \"scale\": \"y\"}}}, \"type\": \"rect\"}], \"type\": \"group\"}], \"padding\": \"auto\", \"scales\": [{\"domain\": {\"data\": \"table\", \"field\": \"data.idx\"}, \"name\": \"x\", \"range\": \"width\", \"type\": \"ordinal\", \"zero\": false}, {\"domain\": {\"data\": \"stats\", \"field\": \"sum\"}, \"name\": \"y\", \"nice\": true, \"range\": \"height\"}, {\"domain\": {\"data\": \"table\", \"field\": \"data.col\"}, \"name\": \"color\", \"range\": \"category20\", \"type\": \"ordinal\"}], \"width\": 720}, function(chart) {\n",
        "         chart({el: \"#vis17f298a338d6445a8bdd90f3fb102c5f\"}).update();\n",
        "       });\n",
        "     };\n",
        "     _do_plot();\n",
        "   })();\n",
        "</script>\n",
        "<style>.vega canvas {width: 100%;}</style>\n",
        "        "
       ],
       "metadata": {},
       "output_type": "display_data",
       "text": [
        "<IPython.core.display.HTML at 0x7fb4a999f3d0>"
       ]
      }
     ],
     "prompt_number": 86
    },
    {
     "cell_type": "heading",
     "level": 3,
     "metadata": {},
     "source": [
      "Number Of Restaurants Inspected Per Year From 2011 - 2014\n"
     ]
    },
    {
     "cell_type": "markdown",
     "metadata": {},
     "source": [
      "For the year 2011 the inspections began in the month of September and for the years 2012, 2013 and 2014 the data collection started from January. Check how many restaurants are inspected each year and remember we are still not done with 2014."
     ]
    },
    {
     "cell_type": "code",
     "collapsed": false,
     "input": [
      "restaurants_inspected_per_year = pandas.io.sql.read_sql(\n",
      "'''\n",
      "SELECT EXTRACT(YEAR FROM inspection_date) AS insp_yr, COUNT(DISTINCT business_id)\n",
      "FROM inspections\n",
      "GROUP BY insp_yr\n",
      "ORDER BY insp_yr;\n",
      "''',\n",
      "con=engine) "
     ],
     "language": "python",
     "metadata": {},
     "outputs": [],
     "prompt_number": 87
    },
    {
     "cell_type": "code",
     "collapsed": false,
     "input": [
      "restaurants_inspected_per_year.set_index('insp_yr', inplace=True)\n",
      "bar = vincent.Bar(restaurants_inspected_per_year['count'], width=480, height=240)\n",
      "bar.axis_titles(x='Year', y='Inspections')\n",
      "bar.display()\n"
     ],
     "language": "python",
     "metadata": {},
     "outputs": [
      {
       "html": [
        "<div id=\"vis8c27c71dbcb3435aa0a1de3388bd058e\"></div>\n",
        "<script>\n",
        "   ( function() {\n",
        "     var _do_plot = function() {\n",
        "       if (typeof vg === 'undefined') {\n",
        "         window.addEventListener('vincent_libs_loaded', _do_plot)\n",
        "         return;\n",
        "       }\n",
        "       vg.parse.spec({\"axes\": [{\"scale\": \"x\", \"title\": \"Year\", \"type\": \"x\"}, {\"scale\": \"y\", \"title\": \"Inspections\", \"type\": \"y\"}], \"data\": [{\"name\": \"table\", \"values\": [{\"col\": \"count\", \"idx\": 2011.0, \"val\": 2098}, {\"col\": \"count\", \"idx\": 2012.0, \"val\": 4381}, {\"col\": \"count\", \"idx\": 2013.0, \"val\": 4908}, {\"col\": \"count\", \"idx\": 2014.0, \"val\": 4799}]}, {\"name\": \"stats\", \"source\": \"table\", \"transform\": [{\"keys\": [\"data.idx\"], \"type\": \"facet\"}, {\"type\": \"stats\", \"value\": \"data.val\"}]}], \"height\": 240, \"legends\": [], \"marks\": [{\"from\": {\"data\": \"table\", \"transform\": [{\"keys\": [\"data.col\"], \"type\": \"facet\"}, {\"height\": \"data.val\", \"point\": \"data.idx\", \"type\": \"stack\"}]}, \"marks\": [{\"properties\": {\"enter\": {\"fill\": {\"field\": \"data.col\", \"scale\": \"color\"}, \"width\": {\"band\": true, \"offset\": -1, \"scale\": \"x\"}, \"x\": {\"field\": \"data.idx\", \"scale\": \"x\"}, \"y\": {\"field\": \"y\", \"scale\": \"y\"}, \"y2\": {\"field\": \"y2\", \"scale\": \"y\"}}}, \"type\": \"rect\"}], \"type\": \"group\"}], \"padding\": \"auto\", \"scales\": [{\"domain\": {\"data\": \"table\", \"field\": \"data.idx\"}, \"name\": \"x\", \"range\": \"width\", \"type\": \"ordinal\", \"zero\": false}, {\"domain\": {\"data\": \"stats\", \"field\": \"sum\"}, \"name\": \"y\", \"nice\": true, \"range\": \"height\"}, {\"domain\": {\"data\": \"table\", \"field\": \"data.col\"}, \"name\": \"color\", \"range\": \"category20\", \"type\": \"ordinal\"}], \"width\": 480}, function(chart) {\n",
        "         chart({el: \"#vis8c27c71dbcb3435aa0a1de3388bd058e\"}).update();\n",
        "       });\n",
        "     };\n",
        "     _do_plot();\n",
        "   })();\n",
        "</script>\n",
        "<style>.vega canvas {width: 100%;}</style>\n",
        "        "
       ],
       "metadata": {},
       "output_type": "display_data",
       "text": [
        "<IPython.core.display.HTML at 0x7fb4a9089e50>"
       ]
      }
     ],
     "prompt_number": 88
    },
    {
     "cell_type": "heading",
     "level": 3,
     "metadata": {},
     "source": [
      "Number of Restaurant Inspections From 2011 - 2014"
     ]
    },
    {
     "cell_type": "markdown",
     "metadata": {},
     "source": [
      "In the four years that inspections began 1388 restaurants were inspected 4 times and 1 restaurant was actually inspected 17 times keeping the health inspectors busy."
     ]
    },
    {
     "cell_type": "code",
     "collapsed": false,
     "input": [
      "number_of_restaurant_inspections = pandas.io.sql.read_sql(\n",
      "'''\n",
      "SELECT insp_count, COUNT(insp_count) AS restaurants_inspected\n",
      "FROM (\n",
      "\t\tSELECT COUNT(inspections.business_id) AS insp_count, inspections.business_id \n",
      "\t\tFROM inspections \n",
      "\t\tGROUP BY business_id) AS ind_cnt\n",
      "GROUP BY insp_count \n",
      "ORDER BY insp_count ASC;\n",
      "''',\n",
      "con=engine) "
     ],
     "language": "python",
     "metadata": {},
     "outputs": [],
     "prompt_number": 89
    },
    {
     "cell_type": "code",
     "collapsed": false,
     "input": [
      "number_of_restaurant_inspections.set_index('insp_count', inplace=True)\n",
      "bar = vincent.Bar(number_of_restaurant_inspections['restaurants_inspected'], width=480, height=240)\n",
      "bar.axis_titles(x='Inspection Count', y='Number of Restaurants')\n",
      "bar.display()"
     ],
     "language": "python",
     "metadata": {},
     "outputs": [
      {
       "html": [
        "<div id=\"visf5134456a9494137ba95d7fa505f9a30\"></div>\n",
        "<script>\n",
        "   ( function() {\n",
        "     var _do_plot = function() {\n",
        "       if (typeof vg === 'undefined') {\n",
        "         window.addEventListener('vincent_libs_loaded', _do_plot)\n",
        "         return;\n",
        "       }\n",
        "       vg.parse.spec({\"axes\": [{\"scale\": \"x\", \"title\": \"Inspection Count\", \"type\": \"x\"}, {\"scale\": \"y\", \"title\": \"Number of Restaurants\", \"type\": \"y\"}], \"data\": [{\"name\": \"table\", \"values\": [{\"col\": \"restaurants_inspected\", \"idx\": 1, \"val\": 540}, {\"col\": \"restaurants_inspected\", \"idx\": 2, \"val\": 589}, {\"col\": \"restaurants_inspected\", \"idx\": 3, \"val\": 1065}, {\"col\": \"restaurants_inspected\", \"idx\": 4, \"val\": 1388}, {\"col\": \"restaurants_inspected\", \"idx\": 5, \"val\": 1265}, {\"col\": \"restaurants_inspected\", \"idx\": 6, \"val\": 664}, {\"col\": \"restaurants_inspected\", \"idx\": 7, \"val\": 41}, {\"col\": \"restaurants_inspected\", \"idx\": 8, \"val\": 10}, {\"col\": \"restaurants_inspected\", \"idx\": 9, \"val\": 10}, {\"col\": \"restaurants_inspected\", \"idx\": 10, \"val\": 32}, {\"col\": \"restaurants_inspected\", \"idx\": 11, \"val\": 28}, {\"col\": \"restaurants_inspected\", \"idx\": 12, \"val\": 3}, {\"col\": \"restaurants_inspected\", \"idx\": 14, \"val\": 1}, {\"col\": \"restaurants_inspected\", \"idx\": 15, \"val\": 1}, {\"col\": \"restaurants_inspected\", \"idx\": 17, \"val\": 1}]}, {\"name\": \"stats\", \"source\": \"table\", \"transform\": [{\"keys\": [\"data.idx\"], \"type\": \"facet\"}, {\"type\": \"stats\", \"value\": \"data.val\"}]}], \"height\": 240, \"legends\": [], \"marks\": [{\"from\": {\"data\": \"table\", \"transform\": [{\"keys\": [\"data.col\"], \"type\": \"facet\"}, {\"height\": \"data.val\", \"point\": \"data.idx\", \"type\": \"stack\"}]}, \"marks\": [{\"properties\": {\"enter\": {\"fill\": {\"field\": \"data.col\", \"scale\": \"color\"}, \"width\": {\"band\": true, \"offset\": -1, \"scale\": \"x\"}, \"x\": {\"field\": \"data.idx\", \"scale\": \"x\"}, \"y\": {\"field\": \"y\", \"scale\": \"y\"}, \"y2\": {\"field\": \"y2\", \"scale\": \"y\"}}}, \"type\": \"rect\"}], \"type\": \"group\"}], \"padding\": \"auto\", \"scales\": [{\"domain\": {\"data\": \"table\", \"field\": \"data.idx\"}, \"name\": \"x\", \"range\": \"width\", \"type\": \"ordinal\", \"zero\": false}, {\"domain\": {\"data\": \"stats\", \"field\": \"sum\"}, \"name\": \"y\", \"nice\": true, \"range\": \"height\"}, {\"domain\": {\"data\": \"table\", \"field\": \"data.col\"}, \"name\": \"color\", \"range\": \"category20\", \"type\": \"ordinal\"}], \"width\": 480}, function(chart) {\n",
        "         chart({el: \"#visf5134456a9494137ba95d7fa505f9a30\"}).update();\n",
        "       });\n",
        "     };\n",
        "     _do_plot();\n",
        "   })();\n",
        "</script>\n",
        "<style>.vega canvas {width: 100%;}</style>\n",
        "        "
       ],
       "metadata": {},
       "output_type": "display_data",
       "text": [
        "<IPython.core.display.HTML at 0x7fb4a8e93e50>"
       ]
      }
     ],
     "prompt_number": 90
    },
    {
     "cell_type": "heading",
     "level": 3,
     "metadata": {},
     "source": [
      "Maximum Violations By Business"
     ]
    },
    {
     "cell_type": "markdown",
     "metadata": {},
     "source": [
      "You may want to check if the scores have improved before you step in to any of these restaurants."
     ]
    },
    {
     "cell_type": "code",
     "collapsed": false,
     "input": [
      "violations_by_business = pandas.io.sql.read_sql(\n",
      "'''\n",
      "SELECT \n",
      "    businesses.business_id AS business_id, \n",
      "    businesses.name AS name, \n",
      "    COUNT(violations.business_id) AS violation_count \n",
      "FROM violations\n",
      "JOIN \n",
      "    businesses ON businesses.business_id = violations.business_id\n",
      "GROUP BY businesses.business_id \n",
      "ORDER BY violation_count DESC\n",
      "LIMIT 10;\n",
      "''',\n",
      "con=engine)"
     ],
     "language": "python",
     "metadata": {},
     "outputs": [],
     "prompt_number": 91
    },
    {
     "cell_type": "code",
     "collapsed": false,
     "input": [
      "violations_by_business"
     ],
     "language": "python",
     "metadata": {},
     "outputs": [
      {
       "html": [
        "<div style=\"max-height:1000px;max-width:1500px;overflow:auto;\">\n",
        "<table border=\"1\" class=\"dataframe\">\n",
        "  <thead>\n",
        "    <tr style=\"text-align: right;\">\n",
        "      <th></th>\n",
        "      <th>business_id</th>\n",
        "      <th>name</th>\n",
        "      <th>violation_count</th>\n",
        "    </tr>\n",
        "  </thead>\n",
        "  <tbody>\n",
        "    <tr>\n",
        "      <th>0</th>\n",
        "      <td>  3151</td>\n",
        "      <td>               NEW ASIA RESTAURANT</td>\n",
        "      <td> 57</td>\n",
        "    </tr>\n",
        "    <tr>\n",
        "      <th>1</th>\n",
        "      <td>  3115</td>\n",
        "      <td>                  YEE'S RESTAURANT</td>\n",
        "      <td> 52</td>\n",
        "    </tr>\n",
        "    <tr>\n",
        "      <th>2</th>\n",
        "      <td>  1833</td>\n",
        "      <td>           ROGUE ALES PUBLIC HOUSE</td>\n",
        "      <td> 50</td>\n",
        "    </tr>\n",
        "    <tr>\n",
        "      <th>3</th>\n",
        "      <td>  3675</td>\n",
        "      <td>         HO'S BAR &amp; RESTAURANT INC</td>\n",
        "      <td> 50</td>\n",
        "    </tr>\n",
        "    <tr>\n",
        "      <th>4</th>\n",
        "      <td> 62882</td>\n",
        "      <td>               BROADWAY TUTTIMELON</td>\n",
        "      <td> 49</td>\n",
        "    </tr>\n",
        "    <tr>\n",
        "      <th>5</th>\n",
        "      <td>  7643</td>\n",
        "      <td>              PACIFIC SUPER MARKET</td>\n",
        "      <td> 47</td>\n",
        "    </tr>\n",
        "    <tr>\n",
        "      <th>6</th>\n",
        "      <td> 39396</td>\n",
        "      <td>                   NEW REGENT CAFE</td>\n",
        "      <td> 47</td>\n",
        "    </tr>\n",
        "    <tr>\n",
        "      <th>7</th>\n",
        "      <td>   852</td>\n",
        "      <td> NEW HOLLYWOOD BAKERY &amp; RESTAURANT</td>\n",
        "      <td> 44</td>\n",
        "    </tr>\n",
        "    <tr>\n",
        "      <th>8</th>\n",
        "      <td>  4621</td>\n",
        "      <td>                   LOUIE'S DIM SUM</td>\n",
        "      <td> 44</td>\n",
        "    </tr>\n",
        "    <tr>\n",
        "      <th>9</th>\n",
        "      <td>   240</td>\n",
        "      <td>                   MIKI RESTAURANT</td>\n",
        "      <td> 43</td>\n",
        "    </tr>\n",
        "  </tbody>\n",
        "</table>\n",
        "</div>"
       ],
       "metadata": {},
       "output_type": "pyout",
       "prompt_number": 92,
       "text": [
        "   business_id                               name  violation_count\n",
        "0         3151                NEW ASIA RESTAURANT               57\n",
        "1         3115                   YEE'S RESTAURANT               52\n",
        "2         1833            ROGUE ALES PUBLIC HOUSE               50\n",
        "3         3675          HO'S BAR & RESTAURANT INC               50\n",
        "4        62882                BROADWAY TUTTIMELON               49\n",
        "5         7643               PACIFIC SUPER MARKET               47\n",
        "6        39396                    NEW REGENT CAFE               47\n",
        "7          852  NEW HOLLYWOOD BAKERY & RESTAURANT               44\n",
        "8         4621                    LOUIE'S DIM SUM               44\n",
        "9          240                    MIKI RESTAURANT               43"
       ]
      }
     ],
     "prompt_number": 92
    },
    {
     "cell_type": "heading",
     "level": 3,
     "metadata": {},
     "source": [
      "Restaurant Scores By Category"
     ]
    },
    {
     "cell_type": "markdown",
     "metadata": {},
     "source": [
      "How about if you wanted to know how many of those restaurant scores fell in to the category of Good, Adequate, Needs Improvement and Poor. Let us decode what these categories mean and the number of restaurants that fell in to each of the buckets -\n",
      "\n",
      "- A restaurant is considered _Good_ if it scores more than 90 which means it has only lower-risk health and safety violations.. \n",
      "- It's score is _Adequate_ if it scores between 86-90 which translates to several violations observed and may have high-risk violations. \n",
      "- A restaurant would be given _Needs Improvement_ if the score falls in the range 71-85 meaning multiple violations observed and typically, several high-risk violations. \n",
      "- _Poor_ is awarded to restaurants that score less than or equal to 70 where the restaurants has flouted multiple rules and has a number of high-risk violations."
     ]
    },
    {
     "cell_type": "code",
     "collapsed": false,
     "input": [
      "restaurant_scores_by_category = pandas.io.sql.read_sql(\n",
      "'''\n",
      "SELECT yr, description, yr_desc_cnt, yr_total, round((yr_desc_cnt::numeric/yr_total)*100.0, 1) AS percentage\n",
      "FROM (\n",
      "\tSELECT score_breakdown.yr, score_breakdown.description, score_breakdown.yr_desc_cnt, yr_cnt.yr_total\n",
      "\tFROM \n",
      "\t\t(SELECT msy_desc.yr AS yr, msy_desc.description AS description, COUNT(msy_desc.business_id) AS yr_desc_cnt\n",
      "\t\tFROM (\n",
      "\t\t\tSELECT msy.business_id, msy.yr, msy.yearly_max, legend.description \n",
      "\t\t\tFROM\n",
      "\t\t\t(\n",
      "\t\t\t\tSELECT business_id, EXTRACT(YEAR FROM inspection_date) AS yr, MAX(score) AS yearly_max\n",
      "\t\t\t\tFROM inspections\n",
      "\t\t\t\tGROUP BY business_id, yr\n",
      "\t\t\t\tORDER BY business_id, yr\n",
      "\t\t\t) AS msy\n",
      "\t\t\tJOIN legend ON msy.yearly_max >= legend.minimum_score AND msy.yearly_max <= legend.maximum_score\n",
      "\t\t) AS msy_desc\n",
      "\tGROUP BY msy_desc.yr, msy_desc.description\n",
      "\t) AS score_breakdown \n",
      "\tJOIN \n",
      "\t(SELECT EXTRACT(YEAR FROM inspection_date) AS insp_yr, COUNT(DISTINCT business_id) AS yr_total\n",
      "\tFROM inspections\n",
      "\tGROUP BY insp_yr\n",
      "\tORDER BY insp_yr) AS yr_cnt \n",
      "\tON yr_cnt.insp_yr = score_breakdown.yr\n",
      "\tORDER BY score_breakdown.yr) AS x;\n",
      "''',\n",
      "con=engine)"
     ],
     "language": "python",
     "metadata": {},
     "outputs": [],
     "prompt_number": 93
    },
    {
     "cell_type": "code",
     "collapsed": false,
     "input": [
      "restaurant_scores_by_category"
     ],
     "language": "python",
     "metadata": {},
     "outputs": [
      {
       "html": [
        "<div style=\"max-height:1000px;max-width:1500px;overflow:auto;\">\n",
        "<table border=\"1\" class=\"dataframe\">\n",
        "  <thead>\n",
        "    <tr style=\"text-align: right;\">\n",
        "      <th></th>\n",
        "      <th>yr</th>\n",
        "      <th>description</th>\n",
        "      <th>yr_desc_cnt</th>\n",
        "      <th>yr_total</th>\n",
        "      <th>percentage</th>\n",
        "    </tr>\n",
        "  </thead>\n",
        "  <tbody>\n",
        "    <tr>\n",
        "      <th>0 </th>\n",
        "      <td> 2011</td>\n",
        "      <td>          Adequate</td>\n",
        "      <td>  353</td>\n",
        "      <td> 2098</td>\n",
        "      <td> 16.8</td>\n",
        "    </tr>\n",
        "    <tr>\n",
        "      <th>1 </th>\n",
        "      <td> 2011</td>\n",
        "      <td>              Good</td>\n",
        "      <td> 1398</td>\n",
        "      <td> 2098</td>\n",
        "      <td> 66.6</td>\n",
        "    </tr>\n",
        "    <tr>\n",
        "      <th>2 </th>\n",
        "      <td> 2011</td>\n",
        "      <td> Needs Improvement</td>\n",
        "      <td>  310</td>\n",
        "      <td> 2098</td>\n",
        "      <td> 14.8</td>\n",
        "    </tr>\n",
        "    <tr>\n",
        "      <th>3 </th>\n",
        "      <td> 2011</td>\n",
        "      <td>              Poor</td>\n",
        "      <td>   37</td>\n",
        "      <td> 2098</td>\n",
        "      <td>  1.8</td>\n",
        "    </tr>\n",
        "    <tr>\n",
        "      <th>4 </th>\n",
        "      <td> 2012</td>\n",
        "      <td>          Adequate</td>\n",
        "      <td>  646</td>\n",
        "      <td> 4381</td>\n",
        "      <td> 14.7</td>\n",
        "    </tr>\n",
        "    <tr>\n",
        "      <th>5 </th>\n",
        "      <td> 2012</td>\n",
        "      <td>              Good</td>\n",
        "      <td> 3154</td>\n",
        "      <td> 4381</td>\n",
        "      <td> 72.0</td>\n",
        "    </tr>\n",
        "    <tr>\n",
        "      <th>6 </th>\n",
        "      <td> 2012</td>\n",
        "      <td> Needs Improvement</td>\n",
        "      <td>  522</td>\n",
        "      <td> 4381</td>\n",
        "      <td> 11.9</td>\n",
        "    </tr>\n",
        "    <tr>\n",
        "      <th>7 </th>\n",
        "      <td> 2012</td>\n",
        "      <td>              Poor</td>\n",
        "      <td>   59</td>\n",
        "      <td> 4381</td>\n",
        "      <td>  1.3</td>\n",
        "    </tr>\n",
        "    <tr>\n",
        "      <th>8 </th>\n",
        "      <td> 2013</td>\n",
        "      <td>          Adequate</td>\n",
        "      <td>  862</td>\n",
        "      <td> 4908</td>\n",
        "      <td> 17.6</td>\n",
        "    </tr>\n",
        "    <tr>\n",
        "      <th>9 </th>\n",
        "      <td> 2013</td>\n",
        "      <td>              Good</td>\n",
        "      <td> 3246</td>\n",
        "      <td> 4908</td>\n",
        "      <td> 66.1</td>\n",
        "    </tr>\n",
        "    <tr>\n",
        "      <th>10</th>\n",
        "      <td> 2013</td>\n",
        "      <td> Needs Improvement</td>\n",
        "      <td>  712</td>\n",
        "      <td> 4908</td>\n",
        "      <td> 14.5</td>\n",
        "    </tr>\n",
        "    <tr>\n",
        "      <th>11</th>\n",
        "      <td> 2013</td>\n",
        "      <td>              Poor</td>\n",
        "      <td>   88</td>\n",
        "      <td> 4908</td>\n",
        "      <td>  1.8</td>\n",
        "    </tr>\n",
        "    <tr>\n",
        "      <th>12</th>\n",
        "      <td> 2014</td>\n",
        "      <td>          Adequate</td>\n",
        "      <td>  911</td>\n",
        "      <td> 4799</td>\n",
        "      <td> 19.0</td>\n",
        "    </tr>\n",
        "    <tr>\n",
        "      <th>13</th>\n",
        "      <td> 2014</td>\n",
        "      <td>              Good</td>\n",
        "      <td> 3099</td>\n",
        "      <td> 4799</td>\n",
        "      <td> 64.6</td>\n",
        "    </tr>\n",
        "    <tr>\n",
        "      <th>14</th>\n",
        "      <td> 2014</td>\n",
        "      <td> Needs Improvement</td>\n",
        "      <td>  709</td>\n",
        "      <td> 4799</td>\n",
        "      <td> 14.8</td>\n",
        "    </tr>\n",
        "    <tr>\n",
        "      <th>15</th>\n",
        "      <td> 2014</td>\n",
        "      <td>              Poor</td>\n",
        "      <td>   80</td>\n",
        "      <td> 4799</td>\n",
        "      <td>  1.7</td>\n",
        "    </tr>\n",
        "  </tbody>\n",
        "</table>\n",
        "</div>"
       ],
       "metadata": {},
       "output_type": "pyout",
       "prompt_number": 94,
       "text": [
        "      yr        description  yr_desc_cnt  yr_total  percentage\n",
        "0   2011           Adequate          353      2098        16.8\n",
        "1   2011               Good         1398      2098        66.6\n",
        "2   2011  Needs Improvement          310      2098        14.8\n",
        "3   2011               Poor           37      2098         1.8\n",
        "4   2012           Adequate          646      4381        14.7\n",
        "5   2012               Good         3154      4381        72.0\n",
        "6   2012  Needs Improvement          522      4381        11.9\n",
        "7   2012               Poor           59      4381         1.3\n",
        "8   2013           Adequate          862      4908        17.6\n",
        "9   2013               Good         3246      4908        66.1\n",
        "10  2013  Needs Improvement          712      4908        14.5\n",
        "11  2013               Poor           88      4908         1.8\n",
        "12  2014           Adequate          911      4799        19.0\n",
        "13  2014               Good         3099      4799        64.6\n",
        "14  2014  Needs Improvement          709      4799        14.8\n",
        "15  2014               Poor           80      4799         1.7"
       ]
      }
     ],
     "prompt_number": 94
    },
    {
     "cell_type": "heading",
     "level": 3,
     "metadata": {},
     "source": [
      "Good Restaurant Scores By Zipcode"
     ]
    },
    {
     "cell_type": "markdown",
     "metadata": {},
     "source": [
      "If you are heading out for a dinner or a date make sure you pick a restaurant from the listed zipcodes to avoid surprises. The percentage of good restaurants by zipcode is for the year 2013."
     ]
    },
    {
     "cell_type": "code",
     "collapsed": false,
     "input": [
      "percentage_of_good_restaurant_scores_zipcode = pandas.io.sql.read_sql(\n",
      "'''\n",
      "SELECT postal_code, \n",
      "    num_businesses AS num_good_businesses, \n",
      "    num_total_businesses, round(num_businesses::numeric*100.0/num_total_businesses, 2) AS percentage \n",
      "FROM (\n",
      "    SELECT postal_code, num_businesses, description, \n",
      "        SUM(num_businesses) OVER (PARTITION BY postal_code) AS num_total_businesses FROM (\n",
      "    SELECT all_rest.postal_code, all_rest.description, all_rest.num_businesses\n",
      "    FROM\n",
      "       (\n",
      "            SELECT businesses.postal_code, new_cnt.description, COUNT(new_cnt.business_id) AS num_businesses\n",
      "            FROM\n",
      "               (\n",
      "                 SELECT business_id, legend.description, EXTRACT(YEAR FROM inspection_date) AS yr, MAX(score) AS yearly_max\n",
      "                 FROM inspections  \n",
      "                 JOIN LEGEND ON inspections.score >= legend.minimum_score AND inspections.score <= legend.maximum_score\n",
      "                 WHERE EXTRACT(YEAR FROM inspection_date) = 2013\n",
      "                 GROUP BY business_id, yr, legend.description\n",
      "                 ORDER BY business_id, yr\n",
      "               ) AS new_cnt\n",
      "            JOIN BUSINESSES ON businesses.business_id = new_cnt.business_id\n",
      "            GROUP BY businesses.postal_code, new_cnt.description) AS all_rest \n",
      "    WHERE all_rest.postal_code IS NOT NULL\n",
      "    ORDER BY num_businesses DESC) AS x) AS y\n",
      "WHERE description = 'Good' AND num_total_businesses >=100\n",
      "ORDER BY percentage DESC;\n",
      "\n",
      "''',\n",
      "con=engine)\n",
      "\n"
     ],
     "language": "python",
     "metadata": {},
     "outputs": [],
     "prompt_number": 97
    },
    {
     "cell_type": "code",
     "collapsed": false,
     "input": [
      "percentage_of_good_restaurant_scores_zipcode.set_index('postal_code', inplace=True)\n",
      "bar = vincent.Bar(percentage_of_good_restaurant_scores_zipcode['percentage'], width=720, height=360)\n",
      "bar.axis_titles(x='Zipcode', y='Percentage')\n",
      "bar.display()\n"
     ],
     "language": "python",
     "metadata": {},
     "outputs": [
      {
       "html": [
        "<div id=\"vis76b1eeaff1e4442ab2babe786a429147\"></div>\n",
        "<script>\n",
        "   ( function() {\n",
        "     var _do_plot = function() {\n",
        "       if (typeof vg === 'undefined') {\n",
        "         window.addEventListener('vincent_libs_loaded', _do_plot)\n",
        "         return;\n",
        "       }\n",
        "       vg.parse.spec({\"axes\": [{\"scale\": \"x\", \"title\": \"Zipcode\", \"type\": \"x\"}, {\"scale\": \"y\", \"title\": \"Percentage\", \"type\": \"y\"}], \"data\": [{\"name\": \"table\", \"values\": [{\"col\": \"percentage\", \"idx\": \"94132\", \"val\": 78.63}, {\"col\": \"percentage\", \"idx\": \"94104\", \"val\": 73.91}, {\"col\": \"percentage\", \"idx\": \"94124\", \"val\": 73.87}, {\"col\": \"percentage\", \"idx\": \"94107\", \"val\": 73.64}, {\"col\": \"percentage\", \"idx\": \"94112\", \"val\": 70.27}, {\"col\": \"percentage\", \"idx\": \"94111\", \"val\": 64.0}, {\"col\": \"percentage\", \"idx\": \"94105\", \"val\": 62.94}, {\"col\": \"percentage\", \"idx\": \"94118\", \"val\": 61.17}, {\"col\": \"percentage\", \"idx\": \"94115\", \"val\": 60.49}, {\"col\": \"percentage\", \"idx\": \"94117\", \"val\": 60.36}, {\"col\": \"percentage\", \"idx\": \"94114\", \"val\": 60.3}, {\"col\": \"percentage\", \"idx\": \"94121\", \"val\": 57.55}, {\"col\": \"percentage\", \"idx\": \"94102\", \"val\": 57.41}, {\"col\": \"percentage\", \"idx\": \"94110\", \"val\": 55.84}, {\"col\": \"percentage\", \"idx\": \"94123\", \"val\": 55.61}, {\"col\": \"percentage\", \"idx\": \"94103\", \"val\": 54.34}, {\"col\": \"percentage\", \"idx\": \"94109\", \"val\": 52.45}, {\"col\": \"percentage\", \"idx\": \"94108\", \"val\": 49.53}, {\"col\": \"percentage\", \"idx\": \"94133\", \"val\": 39.23}, {\"col\": \"percentage\", \"idx\": \"94122\", \"val\": 30.92}]}, {\"name\": \"stats\", \"source\": \"table\", \"transform\": [{\"keys\": [\"data.idx\"], \"type\": \"facet\"}, {\"type\": \"stats\", \"value\": \"data.val\"}]}], \"height\": 360, \"legends\": [], \"marks\": [{\"from\": {\"data\": \"table\", \"transform\": [{\"keys\": [\"data.col\"], \"type\": \"facet\"}, {\"height\": \"data.val\", \"point\": \"data.idx\", \"type\": \"stack\"}]}, \"marks\": [{\"properties\": {\"enter\": {\"fill\": {\"field\": \"data.col\", \"scale\": \"color\"}, \"width\": {\"band\": true, \"offset\": -1, \"scale\": \"x\"}, \"x\": {\"field\": \"data.idx\", \"scale\": \"x\"}, \"y\": {\"field\": \"y\", \"scale\": \"y\"}, \"y2\": {\"field\": \"y2\", \"scale\": \"y\"}}}, \"type\": \"rect\"}], \"type\": \"group\"}], \"padding\": \"auto\", \"scales\": [{\"domain\": {\"data\": \"table\", \"field\": \"data.idx\"}, \"name\": \"x\", \"range\": \"width\", \"type\": \"ordinal\", \"zero\": false}, {\"domain\": {\"data\": \"stats\", \"field\": \"sum\"}, \"name\": \"y\", \"nice\": true, \"range\": \"height\"}, {\"domain\": {\"data\": \"table\", \"field\": \"data.col\"}, \"name\": \"color\", \"range\": \"category20\", \"type\": \"ordinal\"}], \"width\": 720}, function(chart) {\n",
        "         chart({el: \"#vis76b1eeaff1e4442ab2babe786a429147\"}).update();\n",
        "       });\n",
        "     };\n",
        "     _do_plot();\n",
        "   })();\n",
        "</script>\n",
        "<style>.vega canvas {width: 100%;}</style>\n",
        "        "
       ],
       "metadata": {},
       "output_type": "display_data",
       "text": [
        "<IPython.core.display.HTML at 0x7fb4a8e93dd0>"
       ]
      }
     ],
     "prompt_number": 98
    },
    {
     "cell_type": "code",
     "collapsed": false,
     "input": [
      "IPython.display.Image(url='https://i.imgur.com/FKSHwgi.jpg')"
     ],
     "language": "python",
     "metadata": {},
     "outputs": [
      {
       "html": [
        "<img src=\"https://i.imgur.com/FKSHwgi.jpg\"/>"
       ],
       "metadata": {},
       "output_type": "pyout",
       "prompt_number": 103,
       "text": [
        "<IPython.core.display.Image at 0x7fb4a8ea6790>"
       ]
      }
     ],
     "prompt_number": 103
    }
   ],
   "metadata": {}
  }
 ]
}